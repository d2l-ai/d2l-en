{
 "cells": [
  {
   "cell_type": "code",
   "execution_count": null,
   "metadata": {},
   "outputs": [],
   "source": []
  },
  {
   "cell_type": "markdown",
   "metadata": {},
   "source": [
    "Command line which has error..."
   ]
  },
  {
   "cell_type": "code",
   "execution_count": null,
   "metadata": {},
   "outputs": [
    {
     "name": "stdout",
     "output_type": "stream",
     "text": [
      "2 1\n",
      "2 0\n",
      "[21:41:25] src/operator/nn/./cudnn/./cudnn_algoreg-inl.h:97: Running performance tests to find the best convolution algorithm, this can take a while... (set the environment variable MXNET_CUDNN_AUTOTUNE_DEFAULT to 0 to disable)\n",
      "[21:41:25] src/operator/nn/./cudnn/./cudnn_algoreg-inl.h:97: Running performance tests to find the best convolution algorithm, this can take a while... (set the environment variable MXNET_CUDNN_AUTOTUNE_DEFAULT to 0 to disable)\n",
      "epoch 1, loss 3.158176, train acc 0.135000, test acc 0.000000time 39.27 sec, lr 0.1\n",
      "epoch 1, loss 2.835140, train acc 0.112500, test acc 0.000000time 39.28 sec, lr 0.1\n",
      "terminate called without an active exception\n",
      "terminate called without an active exception\n"
     ]
    }
   ],
   "source": [
    "launcher_path = \"/home/ubuntu/miniconda3/envs/d2l/lib/python3.7/site-packages/mxnet/tools/launch.py\"\n",
    "current_dir = !pwd\n",
    "\n",
    "\n",
    "!python {launcher_path} \\\n",
    "    -n 2 -s 2 \\\n",
    "    --sync-dst-dir {current_dir} \\\n",
    "    --launcher local \"python cifar10_dist.py\""
   ]
  },
  {
   "cell_type": "code",
   "execution_count": null,
   "metadata": {},
   "outputs": [],
   "source": []
  }
 ],
 "metadata": {
  "kernelspec": {
   "display_name": "Python 3",
   "language": "python",
   "name": "python3"
  },
  "language_info": {
   "codemirror_mode": {
    "name": "ipython",
    "version": 3
   },
   "file_extension": ".py",
   "mimetype": "text/x-python",
   "name": "python",
   "nbconvert_exporter": "python",
   "pygments_lexer": "ipython3",
   "version": "3.7.6"
  }
 },
 "nbformat": 4,
 "nbformat_minor": 4
}
