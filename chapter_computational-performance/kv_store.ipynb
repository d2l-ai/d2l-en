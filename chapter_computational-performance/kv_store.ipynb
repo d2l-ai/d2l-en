{
 "cells": [
  {
   "cell_type": "code",
   "execution_count": null,
   "metadata": {},
   "outputs": [],
   "source": []
  },
  {
   "cell_type": "markdown",
   "metadata": {},
   "source": [
    "## KV Store\n",
    "### Single Key, Single Value KVstore \n",
    "\n",
    "Let's create a key-value store with the keyword \"device\", which is used for single machine training. Notice that if you would like to create a key-value store for distributed training on multiple machines, you will use the keyword \"dist\". "
   ]
  },
  {
   "cell_type": "code",
   "execution_count": 1,
   "metadata": {},
   "outputs": [],
   "source": [
    "from mxnet import cpu, kv, np\n",
    "kv = kv.create('device')"
   ]
  },
  {
   "cell_type": "markdown",
   "metadata": {},
   "source": [
    "First, let's initialize a $(key, value)$ pair, which is an $(int, ndarray)$ pair, into the store, and pull the value out to the ndarray $\\mathbf{A}$. From now on, we assume the shape of the ndarray will be $(2, 3)$ in our example."
   ]
  },
  {
   "cell_type": "code",
   "execution_count": 2,
   "metadata": {},
   "outputs": [
    {
     "data": {
      "text/plain": [
       "array([[-2., -2., -2.],\n",
       "       [-2., -2., -2.]])"
      ]
     },
     "execution_count": 2,
     "metadata": {},
     "output_type": "execute_result"
    }
   ],
   "source": [
    "shape = (2, 3)\n",
    "kv.init(3, np.ones(shape)* (-2))\n",
    "A = np.zeros(shape)\n",
    "kv.pull(3, out = A)\n",
    "A"
   ]
  },
  {
   "cell_type": "markdown",
   "metadata": {},
   "source": [
    "For any key that has been initialized, we can always push a new value with the same shape to that key:"
   ]
  },
  {
   "cell_type": "code",
   "execution_count": 3,
   "metadata": {},
   "outputs": [
    {
     "data": {
      "text/plain": [
       "array([[-7., -7., -7.],\n",
       "       [-7., -7., -7.]])"
      ]
     },
     "execution_count": 3,
     "metadata": {},
     "output_type": "execute_result"
    }
   ],
   "source": [
    "kv.push(3, np.ones(shape)* (-7))\n",
    "kv.pull(3, out = A)\n",
    "A"
   ]
  },
  {
   "cell_type": "markdown",
   "metadata": {},
   "source": [
    "### Single Key, Multiple Values KVstore \n",
    "\n",
    "Furthermore, we can push multiple values (with the same shape) into the same key. In this case, the KVstore will first sum up the given list of values and then push the aggregated value to the key. In the following example, we will demonstrate pushing a list of values on CPU."
   ]
  },
  {
   "cell_type": "code",
   "execution_count": 5,
   "metadata": {},
   "outputs": [
    {
     "data": {
      "text/plain": [
       "array([[3., 3., 3.],\n",
       "       [3., 3., 3.]])"
      ]
     },
     "execution_count": 5,
     "metadata": {},
     "output_type": "execute_result"
    }
   ],
   "source": [
    "contexts = [cpu(i) for i in range(3)]\n",
    "B = [np.ones(shape, ctx = ctx) for ctx in contexts]\n",
    "kv.push(3, B)\n",
    "kv.pull(3, out = A)\n",
    "\n",
    "# A has a shape (2,3), while B has a 3 x (2,3) on each CPU, then a sums along CPUs\n",
    "A"
   ]
  },
  {
   "cell_type": "markdown",
   "metadata": {},
   "source": [
    "### Multiple $(key, value)$ Pairs KVstore \n",
    "\n",
    "All operations introduced above are only involved a single key. KVstore also provides an interface for a list of $(key, value)$ pairs. Here, we will demonstrate two examples, one on a single device, the other on multiple devices.\n",
    "\n",
    "First, let's create a local KVstore a single device."
   ]
  },
  {
   "cell_type": "code",
   "execution_count": 6,
   "metadata": {},
   "outputs": [
    {
     "name": "stdout",
     "output_type": "stream",
     "text": [
      "[[-3. -3. -3.]\n",
      " [-3. -3. -3.]]\n"
     ]
    }
   ],
   "source": [
    "keys = [7, 11, 13, 17]\n",
    "values = [np.ones(shape) * (-3)] * len(keys)\n",
    "kv.init(keys, values)\n",
    "\n",
    "C = [np.zeros(shape)] * len(keys)\n",
    "kv.pull(keys, out = C)\n",
    "C[0] # Output the value of the first key"
   ]
  },
  {
   "cell_type": "markdown",
   "metadata": {},
   "source": [
    "Next, we can also execute the similar operations on multiple devices. Suppose that each key is corresponding to a machine with 3 CPUs. In this case, each machine will aggregate its value and push it to its key."
   ]
  },
  {
   "cell_type": "code",
   "execution_count": 23,
   "metadata": {},
   "outputs": [
    {
     "name": "stdout",
     "output_type": "stream",
     "text": [
      "D[0] :  [array([[-0.1, -0.1, -0.1],\n",
      "       [-0.1, -0.1, -0.1]]), array([[-0.1, -0.1, -0.1],\n",
      "       [-0.1, -0.1, -0.1]]), array([[-0.1, -0.1, -0.1],\n",
      "       [-0.1, -0.1, -0.1]])]\n"
     ]
    },
    {
     "data": {
      "text/plain": [
       "array([[-0.3, -0.3, -0.3],\n",
       "       [-0.3, -0.3, -0.3]])"
      ]
     },
     "execution_count": 23,
     "metadata": {},
     "output_type": "execute_result"
    }
   ],
   "source": [
    "D = [[np.ones(shape, ctx = ctx) * (-0.1) for ctx in contexts]] * len(keys)\n",
    "print(\"D[0] : \", D[0])\n",
    "\n",
    "kv.push(keys, D)\n",
    "kv.pull(keys, out = C)\n",
    "C[0] # Output the value of the first key"
   ]
  },
  {
   "cell_type": "markdown",
   "metadata": {},
   "source": []
  },
  {
   "cell_type": "code",
   "execution_count": null,
   "metadata": {},
   "outputs": [],
   "source": []
  },
  {
   "cell_type": "code",
   "execution_count": null,
   "metadata": {},
   "outputs": [],
   "source": []
  },
  {
   "cell_type": "code",
   "execution_count": null,
   "metadata": {},
   "outputs": [],
   "source": []
  },
  {
   "cell_type": "code",
   "execution_count": null,
   "metadata": {},
   "outputs": [],
   "source": []
  },
  {
   "cell_type": "markdown",
   "metadata": {},
   "source": [
    "### Updater"
   ]
  },
  {
   "cell_type": "markdown",
   "metadata": {},
   "source": [
    "At each push, KVstore combines the pushed value with the value stored using an updater. The default updater is ASSIGN, which is to assign the value to the key. We can replace the default updater and redefine how data is merged by `_set_updater`."
   ]
  },
  {
   "cell_type": "code",
   "execution_count": 9,
   "metadata": {},
   "outputs": [
    {
     "data": {
      "text/plain": [
       "array([[3., 3., 3.],\n",
       "       [3., 3., 3.]])"
      ]
     },
     "execution_count": 9,
     "metadata": {},
     "output_type": "execute_result"
    }
   ],
   "source": [
    "def update(key, input, stored):\n",
    "    print(\"update on key: %d\" % key)\n",
    "    stored += input * 0.01\n",
    "    \n",
    "kv._set_updater(update)\n",
    "kv.pull(3, out = A)\n",
    "A # Since we haven't called \"push\", the value of A doesn't change\n",
    "\n",
    "\n",
    "kv.push(3, mx.nd.ones(shape) * 5)\n",
    "kv.pull(3, out = A)\n",
    "print(A.asnumpy()) # We called push through the new updater with an input equals to 5"
   ]
  }
 ],
 "metadata": {
  "kernelspec": {
   "display_name": "Python 3",
   "language": "python",
   "name": "python3"
  },
  "language_info": {
   "codemirror_mode": {
    "name": "ipython",
    "version": 3
   },
   "file_extension": ".py",
   "mimetype": "text/x-python",
   "name": "python",
   "nbconvert_exporter": "python",
   "pygments_lexer": "ipython3",
   "version": "3.7.3"
  },
  "latex_envs": {
   "LaTeX_envs_menu_present": true,
   "autoclose": false,
   "autocomplete": true,
   "bibliofile": "biblio.bib",
   "cite_by": "apalike",
   "current_citInitial": 1,
   "eqLabelWithNumbers": true,
   "eqNumInitial": 1,
   "hotkeys": {
    "equation": "Ctrl-E",
    "itemize": "Ctrl-I"
   },
   "labels_anchors": false,
   "latex_user_defs": false,
   "report_style_numbering": false,
   "user_envs_cfg": false
  },
  "toc": {
   "base_numbering": 1,
   "nav_menu": {},
   "number_sections": true,
   "sideBar": true,
   "skip_h1_title": false,
   "title_cell": "Table of Contents",
   "title_sidebar": "Contents",
   "toc_cell": false,
   "toc_position": {},
   "toc_section_display": true,
   "toc_window_display": false
  },
  "varInspector": {
   "cols": {
    "lenName": 16,
    "lenType": 16,
    "lenVar": 40
   },
   "kernels_config": {
    "python": {
     "delete_cmd_postfix": "",
     "delete_cmd_prefix": "del ",
     "library": "var_list.py",
     "varRefreshCmd": "print(var_dic_list())"
    },
    "r": {
     "delete_cmd_postfix": ") ",
     "delete_cmd_prefix": "rm(",
     "library": "var_list.r",
     "varRefreshCmd": "cat(var_dic_list()) "
    }
   },
   "types_to_exclude": [
    "module",
    "function",
    "builtin_function_or_method",
    "instance",
    "_Feature"
   ],
   "window_display": false
  }
 },
 "nbformat": 4,
 "nbformat_minor": 2
}
